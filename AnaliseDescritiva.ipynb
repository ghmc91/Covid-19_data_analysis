{
 "cells": [
  {
   "cell_type": "code",
   "execution_count": 59,
   "metadata": {},
   "outputs": [],
   "source": [
    "#Bibliotecas\n",
    "import pandas as pd\n",
    "from pandas import Series, DataFrame, Panel\n",
    "import matplotlib.pyplot as plt\n",
    "from matplotlib.pyplot import plot_date, axis, show, gcf\n",
    "import numpy as np\n",
    "from urllib.request import Request, urlopen\n",
    "import urllib\n",
    "from http.cookiejar import CookieJar\n",
    "import numpy as np"
   ]
  },
  {
   "cell_type": "markdown",
   "metadata": {},
   "source": [
    "# Conexão com a API do Brasil.IO e manipulação e organização dos dados"
   ]
  },
  {
   "cell_type": "code",
   "execution_count": 2,
   "metadata": {},
   "outputs": [],
   "source": [
    "cj = CookieJar()"
   ]
  },
  {
   "cell_type": "code",
   "execution_count": 124,
   "metadata": {},
   "outputs": [],
   "source": [
    "url_Bso = \"https://brasil.io/api/dataset/covid19/caso_full/data?state=MG&city=Barroso\"\n",
    "req_Bso = urllib.request.Request(url_Bso, None, {\"User-Agent\": \"python-urllib\"})\n",
    "opener_Bso = urllib.request.build_opener(urllib.request.HTTPCookieProcessor(cj))\n",
    "response_Bso = opener_Bso.open(req_Bso)\n",
    "raw_response_Bso = response_Bso.read()"
   ]
  },
  {
   "cell_type": "code",
   "execution_count": 125,
   "metadata": {
    "scrolled": true
   },
   "outputs": [
    {
     "data": {
      "text/html": [
       "<div>\n",
       "<style scoped>\n",
       "    .dataframe tbody tr th:only-of-type {\n",
       "        vertical-align: middle;\n",
       "    }\n",
       "\n",
       "    .dataframe tbody tr th {\n",
       "        vertical-align: top;\n",
       "    }\n",
       "\n",
       "    .dataframe thead th {\n",
       "        text-align: right;\n",
       "    }\n",
       "</style>\n",
       "<table border=\"1\" class=\"dataframe\">\n",
       "  <thead>\n",
       "    <tr style=\"text-align: right;\">\n",
       "      <th></th>\n",
       "      <th>city</th>\n",
       "      <th>city_ibge_code</th>\n",
       "      <th>date</th>\n",
       "      <th>epidemiological_week</th>\n",
       "      <th>estimated_population_2019</th>\n",
       "      <th>is_last</th>\n",
       "      <th>is_repeated</th>\n",
       "      <th>last_available_confirmed</th>\n",
       "      <th>last_available_confirmed_per_100k_inhabitants</th>\n",
       "      <th>last_available_date</th>\n",
       "      <th>last_available_death_rate</th>\n",
       "      <th>last_available_deaths</th>\n",
       "      <th>new_confirmed</th>\n",
       "      <th>new_deaths</th>\n",
       "      <th>order_for_place</th>\n",
       "      <th>place_type</th>\n",
       "      <th>state</th>\n",
       "    </tr>\n",
       "  </thead>\n",
       "  <tbody>\n",
       "    <tr>\n",
       "      <th>0</th>\n",
       "      <td>Barroso</td>\n",
       "      <td>3105905</td>\n",
       "      <td>2020-07-07</td>\n",
       "      <td>28</td>\n",
       "      <td>20810</td>\n",
       "      <td>False</td>\n",
       "      <td>True</td>\n",
       "      <td>27</td>\n",
       "      <td>129.74531</td>\n",
       "      <td>2020-07-06</td>\n",
       "      <td>0.0</td>\n",
       "      <td>0</td>\n",
       "      <td>0</td>\n",
       "      <td>0</td>\n",
       "      <td>52</td>\n",
       "      <td>city</td>\n",
       "      <td>MG</td>\n",
       "    </tr>\n",
       "    <tr>\n",
       "      <th>1</th>\n",
       "      <td>Barroso</td>\n",
       "      <td>3105905</td>\n",
       "      <td>2020-07-06</td>\n",
       "      <td>28</td>\n",
       "      <td>20810</td>\n",
       "      <td>True</td>\n",
       "      <td>False</td>\n",
       "      <td>27</td>\n",
       "      <td>129.74531</td>\n",
       "      <td>2020-07-06</td>\n",
       "      <td>0.0</td>\n",
       "      <td>0</td>\n",
       "      <td>12</td>\n",
       "      <td>0</td>\n",
       "      <td>51</td>\n",
       "      <td>city</td>\n",
       "      <td>MG</td>\n",
       "    </tr>\n",
       "    <tr>\n",
       "      <th>2</th>\n",
       "      <td>Barroso</td>\n",
       "      <td>3105905</td>\n",
       "      <td>2020-07-05</td>\n",
       "      <td>28</td>\n",
       "      <td>20810</td>\n",
       "      <td>False</td>\n",
       "      <td>False</td>\n",
       "      <td>15</td>\n",
       "      <td>72.08073</td>\n",
       "      <td>2020-07-05</td>\n",
       "      <td>0.0</td>\n",
       "      <td>0</td>\n",
       "      <td>0</td>\n",
       "      <td>0</td>\n",
       "      <td>50</td>\n",
       "      <td>city</td>\n",
       "      <td>MG</td>\n",
       "    </tr>\n",
       "    <tr>\n",
       "      <th>3</th>\n",
       "      <td>Barroso</td>\n",
       "      <td>3105905</td>\n",
       "      <td>2020-07-04</td>\n",
       "      <td>27</td>\n",
       "      <td>20810</td>\n",
       "      <td>False</td>\n",
       "      <td>False</td>\n",
       "      <td>15</td>\n",
       "      <td>72.08073</td>\n",
       "      <td>2020-07-04</td>\n",
       "      <td>0.0</td>\n",
       "      <td>0</td>\n",
       "      <td>1</td>\n",
       "      <td>0</td>\n",
       "      <td>49</td>\n",
       "      <td>city</td>\n",
       "      <td>MG</td>\n",
       "    </tr>\n",
       "    <tr>\n",
       "      <th>4</th>\n",
       "      <td>Barroso</td>\n",
       "      <td>3105905</td>\n",
       "      <td>2020-07-03</td>\n",
       "      <td>27</td>\n",
       "      <td>20810</td>\n",
       "      <td>False</td>\n",
       "      <td>False</td>\n",
       "      <td>14</td>\n",
       "      <td>67.27535</td>\n",
       "      <td>2020-07-03</td>\n",
       "      <td>0.0</td>\n",
       "      <td>0</td>\n",
       "      <td>1</td>\n",
       "      <td>0</td>\n",
       "      <td>48</td>\n",
       "      <td>city</td>\n",
       "      <td>MG</td>\n",
       "    </tr>\n",
       "  </tbody>\n",
       "</table>\n",
       "</div>"
      ],
      "text/plain": [
       "      city  city_ibge_code        date  epidemiological_week  \\\n",
       "0  Barroso         3105905  2020-07-07                    28   \n",
       "1  Barroso         3105905  2020-07-06                    28   \n",
       "2  Barroso         3105905  2020-07-05                    28   \n",
       "3  Barroso         3105905  2020-07-04                    27   \n",
       "4  Barroso         3105905  2020-07-03                    27   \n",
       "\n",
       "   estimated_population_2019  is_last  is_repeated  last_available_confirmed  \\\n",
       "0                      20810    False         True                        27   \n",
       "1                      20810     True        False                        27   \n",
       "2                      20810    False        False                        15   \n",
       "3                      20810    False        False                        15   \n",
       "4                      20810    False        False                        14   \n",
       "\n",
       "   last_available_confirmed_per_100k_inhabitants last_available_date  \\\n",
       "0                                      129.74531          2020-07-06   \n",
       "1                                      129.74531          2020-07-06   \n",
       "2                                       72.08073          2020-07-05   \n",
       "3                                       72.08073          2020-07-04   \n",
       "4                                       67.27535          2020-07-03   \n",
       "\n",
       "   last_available_death_rate  last_available_deaths  new_confirmed  \\\n",
       "0                        0.0                      0              0   \n",
       "1                        0.0                      0             12   \n",
       "2                        0.0                      0              0   \n",
       "3                        0.0                      0              1   \n",
       "4                        0.0                      0              1   \n",
       "\n",
       "   new_deaths  order_for_place place_type state  \n",
       "0           0               52       city    MG  \n",
       "1           0               51       city    MG  \n",
       "2           0               50       city    MG  \n",
       "3           0               49       city    MG  \n",
       "4           0               48       city    MG  "
      ]
     },
     "execution_count": 125,
     "metadata": {},
     "output_type": "execute_result"
    }
   ],
   "source": [
    "json_Bso = pd.read_json(raw_response_Bso)\n",
    "results_Bso = json_Bso['results']\n",
    "results_Bso = results_Bso.to_dict().values()\n",
    "df_Bso = pd.DataFrame(results_Bso)\n",
    "df_Bso.head(5)"
   ]
  },
  {
   "cell_type": "code",
   "execution_count": 5,
   "metadata": {},
   "outputs": [],
   "source": [
    "url_Bq = \"https://brasil.io/api/dataset/covid19/caso_full/data?state=MG&city=Barbacena\"\n",
    "req_Bq = urllib.request.Request(url_Bq, None, {\"User-Agent\": \"python-urllib\"})\n",
    "opener_Bq = urllib.request.build_opener(urllib.request.HTTPCookieProcessor(cj))\n",
    "response_Bq = opener_Bq.open(req_Bq)\n",
    "raw_response_Bq = response_Bq.read()"
   ]
  },
  {
   "cell_type": "code",
   "execution_count": 6,
   "metadata": {},
   "outputs": [
    {
     "data": {
      "text/html": [
       "<div>\n",
       "<style scoped>\n",
       "    .dataframe tbody tr th:only-of-type {\n",
       "        vertical-align: middle;\n",
       "    }\n",
       "\n",
       "    .dataframe tbody tr th {\n",
       "        vertical-align: top;\n",
       "    }\n",
       "\n",
       "    .dataframe thead th {\n",
       "        text-align: right;\n",
       "    }\n",
       "</style>\n",
       "<table border=\"1\" class=\"dataframe\">\n",
       "  <thead>\n",
       "    <tr style=\"text-align: right;\">\n",
       "      <th></th>\n",
       "      <th>city</th>\n",
       "      <th>city_ibge_code</th>\n",
       "      <th>date</th>\n",
       "      <th>epidemiological_week</th>\n",
       "      <th>estimated_population_2019</th>\n",
       "      <th>is_last</th>\n",
       "      <th>is_repeated</th>\n",
       "      <th>last_available_confirmed</th>\n",
       "      <th>last_available_confirmed_per_100k_inhabitants</th>\n",
       "      <th>last_available_date</th>\n",
       "      <th>last_available_death_rate</th>\n",
       "      <th>last_available_deaths</th>\n",
       "      <th>new_confirmed</th>\n",
       "      <th>new_deaths</th>\n",
       "      <th>order_for_place</th>\n",
       "      <th>place_type</th>\n",
       "      <th>state</th>\n",
       "    </tr>\n",
       "  </thead>\n",
       "  <tbody>\n",
       "    <tr>\n",
       "      <th>0</th>\n",
       "      <td>Barbacena</td>\n",
       "      <td>3105608</td>\n",
       "      <td>2020-07-07</td>\n",
       "      <td>28</td>\n",
       "      <td>137313</td>\n",
       "      <td>False</td>\n",
       "      <td>True</td>\n",
       "      <td>386</td>\n",
       "      <td>281.10958</td>\n",
       "      <td>2020-07-06</td>\n",
       "      <td>0.0130</td>\n",
       "      <td>5</td>\n",
       "      <td>0</td>\n",
       "      <td>0</td>\n",
       "      <td>97</td>\n",
       "      <td>city</td>\n",
       "      <td>MG</td>\n",
       "    </tr>\n",
       "    <tr>\n",
       "      <th>1</th>\n",
       "      <td>Barbacena</td>\n",
       "      <td>3105608</td>\n",
       "      <td>2020-07-06</td>\n",
       "      <td>28</td>\n",
       "      <td>137313</td>\n",
       "      <td>True</td>\n",
       "      <td>False</td>\n",
       "      <td>386</td>\n",
       "      <td>281.10958</td>\n",
       "      <td>2020-07-06</td>\n",
       "      <td>0.0130</td>\n",
       "      <td>5</td>\n",
       "      <td>2</td>\n",
       "      <td>0</td>\n",
       "      <td>96</td>\n",
       "      <td>city</td>\n",
       "      <td>MG</td>\n",
       "    </tr>\n",
       "    <tr>\n",
       "      <th>2</th>\n",
       "      <td>Barbacena</td>\n",
       "      <td>3105608</td>\n",
       "      <td>2020-07-05</td>\n",
       "      <td>28</td>\n",
       "      <td>137313</td>\n",
       "      <td>False</td>\n",
       "      <td>False</td>\n",
       "      <td>384</td>\n",
       "      <td>279.65306</td>\n",
       "      <td>2020-07-05</td>\n",
       "      <td>0.0130</td>\n",
       "      <td>5</td>\n",
       "      <td>3</td>\n",
       "      <td>0</td>\n",
       "      <td>95</td>\n",
       "      <td>city</td>\n",
       "      <td>MG</td>\n",
       "    </tr>\n",
       "    <tr>\n",
       "      <th>3</th>\n",
       "      <td>Barbacena</td>\n",
       "      <td>3105608</td>\n",
       "      <td>2020-07-04</td>\n",
       "      <td>27</td>\n",
       "      <td>137313</td>\n",
       "      <td>False</td>\n",
       "      <td>False</td>\n",
       "      <td>381</td>\n",
       "      <td>277.46827</td>\n",
       "      <td>2020-07-04</td>\n",
       "      <td>0.0131</td>\n",
       "      <td>5</td>\n",
       "      <td>0</td>\n",
       "      <td>0</td>\n",
       "      <td>94</td>\n",
       "      <td>city</td>\n",
       "      <td>MG</td>\n",
       "    </tr>\n",
       "    <tr>\n",
       "      <th>4</th>\n",
       "      <td>Barbacena</td>\n",
       "      <td>3105608</td>\n",
       "      <td>2020-07-03</td>\n",
       "      <td>27</td>\n",
       "      <td>137313</td>\n",
       "      <td>False</td>\n",
       "      <td>False</td>\n",
       "      <td>381</td>\n",
       "      <td>277.46827</td>\n",
       "      <td>2020-07-03</td>\n",
       "      <td>0.0131</td>\n",
       "      <td>5</td>\n",
       "      <td>9</td>\n",
       "      <td>0</td>\n",
       "      <td>93</td>\n",
       "      <td>city</td>\n",
       "      <td>MG</td>\n",
       "    </tr>\n",
       "  </tbody>\n",
       "</table>\n",
       "</div>"
      ],
      "text/plain": [
       "        city  city_ibge_code        date  epidemiological_week  \\\n",
       "0  Barbacena         3105608  2020-07-07                    28   \n",
       "1  Barbacena         3105608  2020-07-06                    28   \n",
       "2  Barbacena         3105608  2020-07-05                    28   \n",
       "3  Barbacena         3105608  2020-07-04                    27   \n",
       "4  Barbacena         3105608  2020-07-03                    27   \n",
       "\n",
       "   estimated_population_2019  is_last  is_repeated  last_available_confirmed  \\\n",
       "0                     137313    False         True                       386   \n",
       "1                     137313     True        False                       386   \n",
       "2                     137313    False        False                       384   \n",
       "3                     137313    False        False                       381   \n",
       "4                     137313    False        False                       381   \n",
       "\n",
       "   last_available_confirmed_per_100k_inhabitants last_available_date  \\\n",
       "0                                      281.10958          2020-07-06   \n",
       "1                                      281.10958          2020-07-06   \n",
       "2                                      279.65306          2020-07-05   \n",
       "3                                      277.46827          2020-07-04   \n",
       "4                                      277.46827          2020-07-03   \n",
       "\n",
       "   last_available_death_rate  last_available_deaths  new_confirmed  \\\n",
       "0                     0.0130                      5              0   \n",
       "1                     0.0130                      5              2   \n",
       "2                     0.0130                      5              3   \n",
       "3                     0.0131                      5              0   \n",
       "4                     0.0131                      5              9   \n",
       "\n",
       "   new_deaths  order_for_place place_type state  \n",
       "0           0               97       city    MG  \n",
       "1           0               96       city    MG  \n",
       "2           0               95       city    MG  \n",
       "3           0               94       city    MG  \n",
       "4           0               93       city    MG  "
      ]
     },
     "execution_count": 6,
     "metadata": {},
     "output_type": "execute_result"
    }
   ],
   "source": [
    "json_Bq = pd.read_json(raw_response_Bq)\n",
    "results_Bq = json_Bq['results']\n",
    "results_Bq = results_Bq.to_dict().values()\n",
    "df_Bq = pd.DataFrame(results_Bq)\n",
    "df_Bq.head(5)"
   ]
  },
  {
   "cell_type": "code",
   "execution_count": 7,
   "metadata": {},
   "outputs": [],
   "source": [
    "url_Sj = \"https://brasil.io/api/dataset/covid19/caso_full/data/?state=MG&city=S%C3%A3o+Jo%C3%A3o+del+Rei\"\n",
    "req_Sj = urllib.request.Request(url_Sj, None, {\"User-Agent\": \"python-urllib\"})\n",
    "opener_Sj = urllib.request.build_opener(urllib.request.HTTPCookieProcessor(cj))\n",
    "response_Sj = opener_Sj.open(req_Sj)\n",
    "raw_response_Sj = response_Sj.read()"
   ]
  },
  {
   "cell_type": "code",
   "execution_count": 8,
   "metadata": {},
   "outputs": [
    {
     "data": {
      "text/html": [
       "<div>\n",
       "<style scoped>\n",
       "    .dataframe tbody tr th:only-of-type {\n",
       "        vertical-align: middle;\n",
       "    }\n",
       "\n",
       "    .dataframe tbody tr th {\n",
       "        vertical-align: top;\n",
       "    }\n",
       "\n",
       "    .dataframe thead th {\n",
       "        text-align: right;\n",
       "    }\n",
       "</style>\n",
       "<table border=\"1\" class=\"dataframe\">\n",
       "  <thead>\n",
       "    <tr style=\"text-align: right;\">\n",
       "      <th></th>\n",
       "      <th>city</th>\n",
       "      <th>city_ibge_code</th>\n",
       "      <th>date</th>\n",
       "      <th>epidemiological_week</th>\n",
       "      <th>estimated_population_2019</th>\n",
       "      <th>is_last</th>\n",
       "      <th>is_repeated</th>\n",
       "      <th>last_available_confirmed</th>\n",
       "      <th>last_available_confirmed_per_100k_inhabitants</th>\n",
       "      <th>last_available_date</th>\n",
       "      <th>last_available_death_rate</th>\n",
       "      <th>last_available_deaths</th>\n",
       "      <th>new_confirmed</th>\n",
       "      <th>new_deaths</th>\n",
       "      <th>order_for_place</th>\n",
       "      <th>place_type</th>\n",
       "      <th>state</th>\n",
       "    </tr>\n",
       "  </thead>\n",
       "  <tbody>\n",
       "    <tr>\n",
       "      <th>0</th>\n",
       "      <td>São João del Rei</td>\n",
       "      <td>3162500</td>\n",
       "      <td>2020-07-07</td>\n",
       "      <td>28</td>\n",
       "      <td>90082</td>\n",
       "      <td>False</td>\n",
       "      <td>True</td>\n",
       "      <td>254</td>\n",
       "      <td>281.96532</td>\n",
       "      <td>2020-07-06</td>\n",
       "      <td>0.0197</td>\n",
       "      <td>5</td>\n",
       "      <td>0</td>\n",
       "      <td>0</td>\n",
       "      <td>104</td>\n",
       "      <td>city</td>\n",
       "      <td>MG</td>\n",
       "    </tr>\n",
       "    <tr>\n",
       "      <th>1</th>\n",
       "      <td>São João del Rei</td>\n",
       "      <td>3162500</td>\n",
       "      <td>2020-07-06</td>\n",
       "      <td>28</td>\n",
       "      <td>90082</td>\n",
       "      <td>True</td>\n",
       "      <td>False</td>\n",
       "      <td>254</td>\n",
       "      <td>281.96532</td>\n",
       "      <td>2020-07-06</td>\n",
       "      <td>0.0197</td>\n",
       "      <td>5</td>\n",
       "      <td>6</td>\n",
       "      <td>0</td>\n",
       "      <td>103</td>\n",
       "      <td>city</td>\n",
       "      <td>MG</td>\n",
       "    </tr>\n",
       "    <tr>\n",
       "      <th>2</th>\n",
       "      <td>São João del Rei</td>\n",
       "      <td>3162500</td>\n",
       "      <td>2020-07-05</td>\n",
       "      <td>28</td>\n",
       "      <td>90082</td>\n",
       "      <td>False</td>\n",
       "      <td>False</td>\n",
       "      <td>248</td>\n",
       "      <td>275.30472</td>\n",
       "      <td>2020-07-05</td>\n",
       "      <td>0.0202</td>\n",
       "      <td>5</td>\n",
       "      <td>6</td>\n",
       "      <td>0</td>\n",
       "      <td>102</td>\n",
       "      <td>city</td>\n",
       "      <td>MG</td>\n",
       "    </tr>\n",
       "    <tr>\n",
       "      <th>3</th>\n",
       "      <td>São João del Rei</td>\n",
       "      <td>3162500</td>\n",
       "      <td>2020-07-04</td>\n",
       "      <td>27</td>\n",
       "      <td>90082</td>\n",
       "      <td>False</td>\n",
       "      <td>False</td>\n",
       "      <td>242</td>\n",
       "      <td>268.64412</td>\n",
       "      <td>2020-07-04</td>\n",
       "      <td>0.0207</td>\n",
       "      <td>5</td>\n",
       "      <td>13</td>\n",
       "      <td>0</td>\n",
       "      <td>101</td>\n",
       "      <td>city</td>\n",
       "      <td>MG</td>\n",
       "    </tr>\n",
       "    <tr>\n",
       "      <th>4</th>\n",
       "      <td>São João del Rei</td>\n",
       "      <td>3162500</td>\n",
       "      <td>2020-07-03</td>\n",
       "      <td>27</td>\n",
       "      <td>90082</td>\n",
       "      <td>False</td>\n",
       "      <td>False</td>\n",
       "      <td>229</td>\n",
       "      <td>254.21283</td>\n",
       "      <td>2020-07-03</td>\n",
       "      <td>0.0218</td>\n",
       "      <td>5</td>\n",
       "      <td>10</td>\n",
       "      <td>0</td>\n",
       "      <td>100</td>\n",
       "      <td>city</td>\n",
       "      <td>MG</td>\n",
       "    </tr>\n",
       "  </tbody>\n",
       "</table>\n",
       "</div>"
      ],
      "text/plain": [
       "               city  city_ibge_code        date  epidemiological_week  \\\n",
       "0  São João del Rei         3162500  2020-07-07                    28   \n",
       "1  São João del Rei         3162500  2020-07-06                    28   \n",
       "2  São João del Rei         3162500  2020-07-05                    28   \n",
       "3  São João del Rei         3162500  2020-07-04                    27   \n",
       "4  São João del Rei         3162500  2020-07-03                    27   \n",
       "\n",
       "   estimated_population_2019  is_last  is_repeated  last_available_confirmed  \\\n",
       "0                      90082    False         True                       254   \n",
       "1                      90082     True        False                       254   \n",
       "2                      90082    False        False                       248   \n",
       "3                      90082    False        False                       242   \n",
       "4                      90082    False        False                       229   \n",
       "\n",
       "   last_available_confirmed_per_100k_inhabitants last_available_date  \\\n",
       "0                                      281.96532          2020-07-06   \n",
       "1                                      281.96532          2020-07-06   \n",
       "2                                      275.30472          2020-07-05   \n",
       "3                                      268.64412          2020-07-04   \n",
       "4                                      254.21283          2020-07-03   \n",
       "\n",
       "   last_available_death_rate  last_available_deaths  new_confirmed  \\\n",
       "0                     0.0197                      5              0   \n",
       "1                     0.0197                      5              6   \n",
       "2                     0.0202                      5              6   \n",
       "3                     0.0207                      5             13   \n",
       "4                     0.0218                      5             10   \n",
       "\n",
       "   new_deaths  order_for_place place_type state  \n",
       "0           0              104       city    MG  \n",
       "1           0              103       city    MG  \n",
       "2           0              102       city    MG  \n",
       "3           0              101       city    MG  \n",
       "4           0              100       city    MG  "
      ]
     },
     "execution_count": 8,
     "metadata": {},
     "output_type": "execute_result"
    }
   ],
   "source": [
    "json_Sj = pd.read_json(raw_response_Sj)\n",
    "results_Sj = json_Sj['results']\n",
    "results_Sj = results_Sj.to_dict().values()\n",
    "df_Sj = pd.DataFrame(results_Sj)\n",
    "df_Sj.head(5)"
   ]
  },
  {
   "cell_type": "code",
   "execution_count": 9,
   "metadata": {},
   "outputs": [
    {
     "data": {
      "text/html": [
       "<div>\n",
       "<style scoped>\n",
       "    .dataframe tbody tr th:only-of-type {\n",
       "        vertical-align: middle;\n",
       "    }\n",
       "\n",
       "    .dataframe tbody tr th {\n",
       "        vertical-align: top;\n",
       "    }\n",
       "\n",
       "    .dataframe thead th {\n",
       "        text-align: right;\n",
       "    }\n",
       "</style>\n",
       "<table border=\"1\" class=\"dataframe\">\n",
       "  <thead>\n",
       "    <tr style=\"text-align: right;\">\n",
       "      <th></th>\n",
       "      <th>epidemiological_week</th>\n",
       "      <th>date</th>\n",
       "      <th>last_available_confirmed_bso</th>\n",
       "      <th>last_available_confirmed_per_100k_inhabitants_bso</th>\n",
       "    </tr>\n",
       "  </thead>\n",
       "  <tbody>\n",
       "    <tr>\n",
       "      <th>3</th>\n",
       "      <td>24</td>\n",
       "      <td>13/06</td>\n",
       "      <td>7</td>\n",
       "      <td>33.63767</td>\n",
       "    </tr>\n",
       "    <tr>\n",
       "      <th>4</th>\n",
       "      <td>25</td>\n",
       "      <td>20/06</td>\n",
       "      <td>12</td>\n",
       "      <td>57.66458</td>\n",
       "    </tr>\n",
       "    <tr>\n",
       "      <th>5</th>\n",
       "      <td>26</td>\n",
       "      <td>27/06</td>\n",
       "      <td>13</td>\n",
       "      <td>62.46997</td>\n",
       "    </tr>\n",
       "    <tr>\n",
       "      <th>6</th>\n",
       "      <td>27</td>\n",
       "      <td>04/07</td>\n",
       "      <td>15</td>\n",
       "      <td>72.08073</td>\n",
       "    </tr>\n",
       "    <tr>\n",
       "      <th>7</th>\n",
       "      <td>28</td>\n",
       "      <td>07/07</td>\n",
       "      <td>27</td>\n",
       "      <td>129.74531</td>\n",
       "    </tr>\n",
       "  </tbody>\n",
       "</table>\n",
       "</div>"
      ],
      "text/plain": [
       "   epidemiological_week   date  last_available_confirmed_bso  \\\n",
       "3                    24  13/06                             7   \n",
       "4                    25  20/06                            12   \n",
       "5                    26  27/06                            13   \n",
       "6                    27  04/07                            15   \n",
       "7                    28  07/07                            27   \n",
       "\n",
       "   last_available_confirmed_per_100k_inhabitants_bso  \n",
       "3                                           33.63767  \n",
       "4                                           57.66458  \n",
       "5                                           62.46997  \n",
       "6                                           72.08073  \n",
       "7                                          129.74531  "
      ]
     },
     "execution_count": 9,
     "metadata": {},
     "output_type": "execute_result"
    }
   ],
   "source": [
    "dfBso = df_Bso[['epidemiological_week', 'date','last_available_confirmed', 'last_available_confirmed_per_100k_inhabitants']]\n",
    "dfBso = dfBso.groupby(['epidemiological_week']).max().reset_index()\n",
    "dfBso['date'] = pd.to_datetime(dfBso.date)\n",
    "dfBso['date'] = dfBso['date'].dt.strftime('%d/%m')\n",
    "dfBso = dfBso.rename(columns={'last_available_confirmed':'last_available_confirmed_bso', 'last_available_confirmed_per_100k_inhabitants': 'last_available_confirmed_per_100k_inhabitants_bso'})\n",
    "dfBso = pd.DataFrame(dfBso)\n",
    "dfBso.tail()"
   ]
  },
  {
   "cell_type": "code",
   "execution_count": 10,
   "metadata": {},
   "outputs": [
    {
     "data": {
      "text/html": [
       "<div>\n",
       "<style scoped>\n",
       "    .dataframe tbody tr th:only-of-type {\n",
       "        vertical-align: middle;\n",
       "    }\n",
       "\n",
       "    .dataframe tbody tr th {\n",
       "        vertical-align: top;\n",
       "    }\n",
       "\n",
       "    .dataframe thead th {\n",
       "        text-align: right;\n",
       "    }\n",
       "</style>\n",
       "<table border=\"1\" class=\"dataframe\">\n",
       "  <thead>\n",
       "    <tr style=\"text-align: right;\">\n",
       "      <th></th>\n",
       "      <th>epidemiological_week</th>\n",
       "      <th>date</th>\n",
       "      <th>last_available_confirmed_bq</th>\n",
       "      <th>last_available_confirmed_per_100k_inhabitants_bq</th>\n",
       "    </tr>\n",
       "  </thead>\n",
       "  <tbody>\n",
       "    <tr>\n",
       "      <th>10</th>\n",
       "      <td>24</td>\n",
       "      <td>13/06</td>\n",
       "      <td>315</td>\n",
       "      <td>229.40290</td>\n",
       "    </tr>\n",
       "    <tr>\n",
       "      <th>11</th>\n",
       "      <td>25</td>\n",
       "      <td>20/06</td>\n",
       "      <td>321</td>\n",
       "      <td>233.77248</td>\n",
       "    </tr>\n",
       "    <tr>\n",
       "      <th>12</th>\n",
       "      <td>26</td>\n",
       "      <td>27/06</td>\n",
       "      <td>343</td>\n",
       "      <td>249.79427</td>\n",
       "    </tr>\n",
       "    <tr>\n",
       "      <th>13</th>\n",
       "      <td>27</td>\n",
       "      <td>04/07</td>\n",
       "      <td>381</td>\n",
       "      <td>277.46827</td>\n",
       "    </tr>\n",
       "    <tr>\n",
       "      <th>14</th>\n",
       "      <td>28</td>\n",
       "      <td>07/07</td>\n",
       "      <td>386</td>\n",
       "      <td>281.10958</td>\n",
       "    </tr>\n",
       "  </tbody>\n",
       "</table>\n",
       "</div>"
      ],
      "text/plain": [
       "    epidemiological_week   date  last_available_confirmed_bq  \\\n",
       "10                    24  13/06                          315   \n",
       "11                    25  20/06                          321   \n",
       "12                    26  27/06                          343   \n",
       "13                    27  04/07                          381   \n",
       "14                    28  07/07                          386   \n",
       "\n",
       "    last_available_confirmed_per_100k_inhabitants_bq  \n",
       "10                                         229.40290  \n",
       "11                                         233.77248  \n",
       "12                                         249.79427  \n",
       "13                                         277.46827  \n",
       "14                                         281.10958  "
      ]
     },
     "execution_count": 10,
     "metadata": {},
     "output_type": "execute_result"
    }
   ],
   "source": [
    "dfBq = df_Bq[['epidemiological_week','date','last_available_confirmed', 'last_available_confirmed_per_100k_inhabitants']]\n",
    "dfBq = dfBq.groupby(['epidemiological_week']).max().reset_index()\n",
    "dfBq['date'] = pd.to_datetime(dfBq.date)\n",
    "dfBq['date'] = dfBq['date'].dt.strftime('%d/%m')\n",
    "dfBq = dfBq.rename(columns={'last_available_confirmed':'last_available_confirmed_bq', 'last_available_confirmed_per_100k_inhabitants':'last_available_confirmed_per_100k_inhabitants_bq'})\n",
    "dfBq = pd.DataFrame(dfBq)\n",
    "dfBq.tail()"
   ]
  },
  {
   "cell_type": "code",
   "execution_count": 11,
   "metadata": {},
   "outputs": [
    {
     "data": {
      "text/html": [
       "<div>\n",
       "<style scoped>\n",
       "    .dataframe tbody tr th:only-of-type {\n",
       "        vertical-align: middle;\n",
       "    }\n",
       "\n",
       "    .dataframe tbody tr th {\n",
       "        vertical-align: top;\n",
       "    }\n",
       "\n",
       "    .dataframe thead th {\n",
       "        text-align: right;\n",
       "    }\n",
       "</style>\n",
       "<table border=\"1\" class=\"dataframe\">\n",
       "  <thead>\n",
       "    <tr style=\"text-align: right;\">\n",
       "      <th></th>\n",
       "      <th>epidemiological_week</th>\n",
       "      <th>date</th>\n",
       "      <th>last_available_confirmed_sj</th>\n",
       "      <th>last_available_confirmed_per_100k_inhabitants_sj</th>\n",
       "    </tr>\n",
       "  </thead>\n",
       "  <tbody>\n",
       "    <tr>\n",
       "      <th>11</th>\n",
       "      <td>24</td>\n",
       "      <td>13/06</td>\n",
       "      <td>89</td>\n",
       "      <td>98.79887</td>\n",
       "    </tr>\n",
       "    <tr>\n",
       "      <th>12</th>\n",
       "      <td>25</td>\n",
       "      <td>20/06</td>\n",
       "      <td>150</td>\n",
       "      <td>166.51495</td>\n",
       "    </tr>\n",
       "    <tr>\n",
       "      <th>13</th>\n",
       "      <td>26</td>\n",
       "      <td>27/06</td>\n",
       "      <td>191</td>\n",
       "      <td>212.02904</td>\n",
       "    </tr>\n",
       "    <tr>\n",
       "      <th>14</th>\n",
       "      <td>27</td>\n",
       "      <td>04/07</td>\n",
       "      <td>242</td>\n",
       "      <td>268.64412</td>\n",
       "    </tr>\n",
       "    <tr>\n",
       "      <th>15</th>\n",
       "      <td>28</td>\n",
       "      <td>07/07</td>\n",
       "      <td>254</td>\n",
       "      <td>281.96532</td>\n",
       "    </tr>\n",
       "  </tbody>\n",
       "</table>\n",
       "</div>"
      ],
      "text/plain": [
       "    epidemiological_week   date  last_available_confirmed_sj  \\\n",
       "11                    24  13/06                           89   \n",
       "12                    25  20/06                          150   \n",
       "13                    26  27/06                          191   \n",
       "14                    27  04/07                          242   \n",
       "15                    28  07/07                          254   \n",
       "\n",
       "    last_available_confirmed_per_100k_inhabitants_sj  \n",
       "11                                          98.79887  \n",
       "12                                         166.51495  \n",
       "13                                         212.02904  \n",
       "14                                         268.64412  \n",
       "15                                         281.96532  "
      ]
     },
     "execution_count": 11,
     "metadata": {},
     "output_type": "execute_result"
    }
   ],
   "source": [
    "dfSj = df_Sj[['epidemiological_week','date','last_available_confirmed', 'last_available_confirmed_per_100k_inhabitants']]\n",
    "dfSj = dfSj.groupby(['epidemiological_week']).max().reset_index()\n",
    "dfSj['date'] = pd.to_datetime(dfSj.date)\n",
    "dfSj['date'] = dfSj['date'].dt.strftime('%d/%m')\n",
    "dfSj = dfSj.rename(columns={'last_available_confirmed':'last_available_confirmed_sj', 'last_available_confirmed_per_100k_inhabitants':'last_available_confirmed_per_100k_inhabitants_sj'})\n",
    "dfSj = pd.DataFrame(dfSj)\n",
    "dfSj.tail()"
   ]
  },
  {
   "cell_type": "code",
   "execution_count": 12,
   "metadata": {},
   "outputs": [],
   "source": [
    "df_cidades = pd.merge(dfBq, dfBso[['date','last_available_confirmed_bso', 'last_available_confirmed_per_100k_inhabitants_bso']], on='date', how='left')\n",
    "df_cidades = pd.merge(df_cidades, dfSj[['date','last_available_confirmed_sj', 'last_available_confirmed_per_100k_inhabitants_sj']], on='date', how='left')"
   ]
  },
  {
   "cell_type": "code",
   "execution_count": 13,
   "metadata": {},
   "outputs": [
    {
     "data": {
      "text/html": [
       "<div>\n",
       "<style scoped>\n",
       "    .dataframe tbody tr th:only-of-type {\n",
       "        vertical-align: middle;\n",
       "    }\n",
       "\n",
       "    .dataframe tbody tr th {\n",
       "        vertical-align: top;\n",
       "    }\n",
       "\n",
       "    .dataframe thead th {\n",
       "        text-align: right;\n",
       "    }\n",
       "</style>\n",
       "<table border=\"1\" class=\"dataframe\">\n",
       "  <thead>\n",
       "    <tr style=\"text-align: right;\">\n",
       "      <th></th>\n",
       "      <th>epidemiological_week</th>\n",
       "      <th>date</th>\n",
       "      <th>last_available_confirmed_bq</th>\n",
       "      <th>last_available_confirmed_per_100k_inhabitants_bq</th>\n",
       "      <th>last_available_confirmed_bso</th>\n",
       "      <th>last_available_confirmed_per_100k_inhabitants_bso</th>\n",
       "      <th>last_available_confirmed_sj</th>\n",
       "      <th>last_available_confirmed_per_100k_inhabitants_sj</th>\n",
       "    </tr>\n",
       "  </thead>\n",
       "  <tbody>\n",
       "    <tr>\n",
       "      <th>0</th>\n",
       "      <td>14</td>\n",
       "      <td>04/04</td>\n",
       "      <td>1</td>\n",
       "      <td>0.72826</td>\n",
       "      <td>NaN</td>\n",
       "      <td>NaN</td>\n",
       "      <td>3</td>\n",
       "      <td>3.33030</td>\n",
       "    </tr>\n",
       "    <tr>\n",
       "      <th>1</th>\n",
       "      <td>15</td>\n",
       "      <td>11/04</td>\n",
       "      <td>2</td>\n",
       "      <td>1.45653</td>\n",
       "      <td>NaN</td>\n",
       "      <td>NaN</td>\n",
       "      <td>3</td>\n",
       "      <td>3.33030</td>\n",
       "    </tr>\n",
       "    <tr>\n",
       "      <th>2</th>\n",
       "      <td>16</td>\n",
       "      <td>18/04</td>\n",
       "      <td>3</td>\n",
       "      <td>2.18479</td>\n",
       "      <td>NaN</td>\n",
       "      <td>NaN</td>\n",
       "      <td>4</td>\n",
       "      <td>4.44040</td>\n",
       "    </tr>\n",
       "    <tr>\n",
       "      <th>3</th>\n",
       "      <td>17</td>\n",
       "      <td>25/04</td>\n",
       "      <td>5</td>\n",
       "      <td>3.64132</td>\n",
       "      <td>NaN</td>\n",
       "      <td>NaN</td>\n",
       "      <td>5</td>\n",
       "      <td>5.55050</td>\n",
       "    </tr>\n",
       "    <tr>\n",
       "      <th>4</th>\n",
       "      <td>18</td>\n",
       "      <td>02/05</td>\n",
       "      <td>10</td>\n",
       "      <td>7.28263</td>\n",
       "      <td>NaN</td>\n",
       "      <td>NaN</td>\n",
       "      <td>7</td>\n",
       "      <td>7.77070</td>\n",
       "    </tr>\n",
       "    <tr>\n",
       "      <th>5</th>\n",
       "      <td>19</td>\n",
       "      <td>09/05</td>\n",
       "      <td>17</td>\n",
       "      <td>12.38047</td>\n",
       "      <td>NaN</td>\n",
       "      <td>NaN</td>\n",
       "      <td>10</td>\n",
       "      <td>11.10100</td>\n",
       "    </tr>\n",
       "    <tr>\n",
       "      <th>6</th>\n",
       "      <td>20</td>\n",
       "      <td>16/05</td>\n",
       "      <td>30</td>\n",
       "      <td>21.84789</td>\n",
       "      <td>NaN</td>\n",
       "      <td>NaN</td>\n",
       "      <td>16</td>\n",
       "      <td>17.76159</td>\n",
       "    </tr>\n",
       "    <tr>\n",
       "      <th>7</th>\n",
       "      <td>21</td>\n",
       "      <td>23/05</td>\n",
       "      <td>42</td>\n",
       "      <td>30.58705</td>\n",
       "      <td>2.0</td>\n",
       "      <td>9.61076</td>\n",
       "      <td>21</td>\n",
       "      <td>23.31209</td>\n",
       "    </tr>\n",
       "    <tr>\n",
       "      <th>8</th>\n",
       "      <td>22</td>\n",
       "      <td>30/05</td>\n",
       "      <td>267</td>\n",
       "      <td>194.44627</td>\n",
       "      <td>2.0</td>\n",
       "      <td>9.61076</td>\n",
       "      <td>33</td>\n",
       "      <td>36.63329</td>\n",
       "    </tr>\n",
       "    <tr>\n",
       "      <th>9</th>\n",
       "      <td>23</td>\n",
       "      <td>06/06</td>\n",
       "      <td>303</td>\n",
       "      <td>220.66374</td>\n",
       "      <td>3.0</td>\n",
       "      <td>14.41615</td>\n",
       "      <td>49</td>\n",
       "      <td>54.39488</td>\n",
       "    </tr>\n",
       "    <tr>\n",
       "      <th>10</th>\n",
       "      <td>24</td>\n",
       "      <td>13/06</td>\n",
       "      <td>315</td>\n",
       "      <td>229.40290</td>\n",
       "      <td>7.0</td>\n",
       "      <td>33.63767</td>\n",
       "      <td>89</td>\n",
       "      <td>98.79887</td>\n",
       "    </tr>\n",
       "    <tr>\n",
       "      <th>11</th>\n",
       "      <td>25</td>\n",
       "      <td>20/06</td>\n",
       "      <td>321</td>\n",
       "      <td>233.77248</td>\n",
       "      <td>12.0</td>\n",
       "      <td>57.66458</td>\n",
       "      <td>150</td>\n",
       "      <td>166.51495</td>\n",
       "    </tr>\n",
       "    <tr>\n",
       "      <th>12</th>\n",
       "      <td>26</td>\n",
       "      <td>27/06</td>\n",
       "      <td>343</td>\n",
       "      <td>249.79427</td>\n",
       "      <td>13.0</td>\n",
       "      <td>62.46997</td>\n",
       "      <td>191</td>\n",
       "      <td>212.02904</td>\n",
       "    </tr>\n",
       "    <tr>\n",
       "      <th>13</th>\n",
       "      <td>27</td>\n",
       "      <td>04/07</td>\n",
       "      <td>381</td>\n",
       "      <td>277.46827</td>\n",
       "      <td>15.0</td>\n",
       "      <td>72.08073</td>\n",
       "      <td>242</td>\n",
       "      <td>268.64412</td>\n",
       "    </tr>\n",
       "    <tr>\n",
       "      <th>14</th>\n",
       "      <td>28</td>\n",
       "      <td>07/07</td>\n",
       "      <td>386</td>\n",
       "      <td>281.10958</td>\n",
       "      <td>27.0</td>\n",
       "      <td>129.74531</td>\n",
       "      <td>254</td>\n",
       "      <td>281.96532</td>\n",
       "    </tr>\n",
       "  </tbody>\n",
       "</table>\n",
       "</div>"
      ],
      "text/plain": [
       "    epidemiological_week   date  last_available_confirmed_bq  \\\n",
       "0                     14  04/04                            1   \n",
       "1                     15  11/04                            2   \n",
       "2                     16  18/04                            3   \n",
       "3                     17  25/04                            5   \n",
       "4                     18  02/05                           10   \n",
       "5                     19  09/05                           17   \n",
       "6                     20  16/05                           30   \n",
       "7                     21  23/05                           42   \n",
       "8                     22  30/05                          267   \n",
       "9                     23  06/06                          303   \n",
       "10                    24  13/06                          315   \n",
       "11                    25  20/06                          321   \n",
       "12                    26  27/06                          343   \n",
       "13                    27  04/07                          381   \n",
       "14                    28  07/07                          386   \n",
       "\n",
       "    last_available_confirmed_per_100k_inhabitants_bq  \\\n",
       "0                                            0.72826   \n",
       "1                                            1.45653   \n",
       "2                                            2.18479   \n",
       "3                                            3.64132   \n",
       "4                                            7.28263   \n",
       "5                                           12.38047   \n",
       "6                                           21.84789   \n",
       "7                                           30.58705   \n",
       "8                                          194.44627   \n",
       "9                                          220.66374   \n",
       "10                                         229.40290   \n",
       "11                                         233.77248   \n",
       "12                                         249.79427   \n",
       "13                                         277.46827   \n",
       "14                                         281.10958   \n",
       "\n",
       "    last_available_confirmed_bso  \\\n",
       "0                            NaN   \n",
       "1                            NaN   \n",
       "2                            NaN   \n",
       "3                            NaN   \n",
       "4                            NaN   \n",
       "5                            NaN   \n",
       "6                            NaN   \n",
       "7                            2.0   \n",
       "8                            2.0   \n",
       "9                            3.0   \n",
       "10                           7.0   \n",
       "11                          12.0   \n",
       "12                          13.0   \n",
       "13                          15.0   \n",
       "14                          27.0   \n",
       "\n",
       "    last_available_confirmed_per_100k_inhabitants_bso  \\\n",
       "0                                                 NaN   \n",
       "1                                                 NaN   \n",
       "2                                                 NaN   \n",
       "3                                                 NaN   \n",
       "4                                                 NaN   \n",
       "5                                                 NaN   \n",
       "6                                                 NaN   \n",
       "7                                             9.61076   \n",
       "8                                             9.61076   \n",
       "9                                            14.41615   \n",
       "10                                           33.63767   \n",
       "11                                           57.66458   \n",
       "12                                           62.46997   \n",
       "13                                           72.08073   \n",
       "14                                          129.74531   \n",
       "\n",
       "    last_available_confirmed_sj  \\\n",
       "0                             3   \n",
       "1                             3   \n",
       "2                             4   \n",
       "3                             5   \n",
       "4                             7   \n",
       "5                            10   \n",
       "6                            16   \n",
       "7                            21   \n",
       "8                            33   \n",
       "9                            49   \n",
       "10                           89   \n",
       "11                          150   \n",
       "12                          191   \n",
       "13                          242   \n",
       "14                          254   \n",
       "\n",
       "    last_available_confirmed_per_100k_inhabitants_sj  \n",
       "0                                            3.33030  \n",
       "1                                            3.33030  \n",
       "2                                            4.44040  \n",
       "3                                            5.55050  \n",
       "4                                            7.77070  \n",
       "5                                           11.10100  \n",
       "6                                           17.76159  \n",
       "7                                           23.31209  \n",
       "8                                           36.63329  \n",
       "9                                           54.39488  \n",
       "10                                          98.79887  \n",
       "11                                         166.51495  \n",
       "12                                         212.02904  \n",
       "13                                         268.64412  \n",
       "14                                         281.96532  "
      ]
     },
     "execution_count": 13,
     "metadata": {},
     "output_type": "execute_result"
    }
   ],
   "source": [
    "df_cidades"
   ]
  },
  {
   "cell_type": "code",
   "execution_count": 15,
   "metadata": {},
   "outputs": [
    {
     "data": {
      "image/png": "[encoded data removed]",
      "text/plain": [
       "<Figure size 1152x432 with 1 Axes>"
      ]
     },
     "metadata": {
      "needs_background": "light"
     },
     "output_type": "display_data"
    }
   ],
   "source": [
    "fig, ax = plt.subplots()\n",
    "plt.rcParams['figure.figsize'] = (16,6)\n",
    "\n",
    "ax.plot(df_cidades.date, df_cidades.last_available_confirmed_bso, \n",
    "        color='green', marker='o', linestyle='dashed', linewidth=2, \n",
    "        markersize=8)\n",
    "\n",
    "\n",
    "ax.plot(df_cidades.date, df_cidades.last_available_confirmed_bq, \n",
    "        color='red', marker='o', linestyle='dashed', linewidth=2, \n",
    "        markersize=8)\n",
    "\n",
    "ax.plot(df_cidades.date, df_cidades.last_available_confirmed_sj, \n",
    "        color='blue', marker='o', linestyle='dashed', linewidth=2, \n",
    "        markersize=8)\n",
    "\n",
    "plt.legend(['Barroso','Barbacena', 'São João Del Rei'])\n",
    "\n",
    "ax.set(ylabel='número de casos', xlabel='', title='Evolução do covid em Barroso/Barbacena/São João Del Rei \\npor semana epidemiológica')\n",
    "\n",
    "ax.grid()\n",
    "fig.savefig('Covid.png')\n",
    "plt.show()"
   ]
  },
  {
   "cell_type": "markdown",
   "metadata": {},
   "source": [
    "# Séries com o número absoluto de casos confirmados"
   ]
  },
  {
   "cell_type": "markdown",
   "metadata": {},
   "source": [
    "Barroso"
   ]
  },
  {
   "cell_type": "code",
   "execution_count": 130,
   "metadata": {},
   "outputs": [
    {
     "data": {
      "text/plain": [
       "array([ 2,  2,  3,  7, 12, 13, 15, 44])"
      ]
     },
     "execution_count": 130,
     "metadata": {},
     "output_type": "execute_result"
    }
   ],
   "source": [
    "Y_Bso = np.array(dfBso['last_available_confirmed_bso'])\n",
    "Y_Bso = np.delete(Y_Bso, 7)\n",
    "Y_Bso = np.insert(Y_Bso, 7, 44)\n",
    "Y_Bso"
   ]
  },
  {
   "cell_type": "code",
   "execution_count": 131,
   "metadata": {},
   "outputs": [
    {
     "data": {
      "text/plain": [
       "array([1, 2, 3, 4, 5, 6, 7, 8])"
      ]
     },
     "execution_count": 131,
     "metadata": {},
     "output_type": "execute_result"
    }
   ],
   "source": [
    "X_Bso = []\n",
    "for index in range(1, len(Y_Bso) + 1):\n",
    "    X_Bso.append(index)\n",
    "X_Bso = np.array(X_Bso)\n",
    "X_Bso"
   ]
  },
  {
   "cell_type": "code",
   "execution_count": 132,
   "metadata": {},
   "outputs": [],
   "source": [
    "X_2d_Bso = []\n",
    "for index in range(0, len(X_Bso)):\n",
    "    X_2d_Bso.append([X_Bso[index], Y_Bso[index]])"
   ]
  },
  {
   "cell_type": "code",
   "execution_count": 133,
   "metadata": {},
   "outputs": [
    {
     "data": {
      "text/plain": [
       "[[1, 2], [2, 2], [3, 3], [4, 7], [5, 12], [6, 13], [7, 15], [8, 44]]"
      ]
     },
     "execution_count": 133,
     "metadata": {},
     "output_type": "execute_result"
    }
   ],
   "source": [
    "X_2d_Bso"
   ]
  },
  {
   "cell_type": "code",
   "execution_count": 134,
   "metadata": {},
   "outputs": [
    {
     "data": {
      "text/plain": [
       "1"
      ]
     },
     "execution_count": 134,
     "metadata": {},
     "output_type": "execute_result"
    }
   ],
   "source": [
    "X_2d_Bso[0][0]"
   ]
  },
  {
   "cell_type": "markdown",
   "metadata": {},
   "source": [
    "Barbacena"
   ]
  },
  {
   "cell_type": "code",
   "execution_count": 135,
   "metadata": {},
   "outputs": [
    {
     "data": {
      "text/plain": [
       "array([  1,   2,   3,   5,  10,  17,  30,  42, 267, 303, 315, 321, 343,\n",
       "       381, 386])"
      ]
     },
     "execution_count": 135,
     "metadata": {},
     "output_type": "execute_result"
    }
   ],
   "source": [
    "Y_Bq = np.array(dfBq['last_available_confirmed_bq'])\n",
    "Y_Bq"
   ]
  },
  {
   "cell_type": "code",
   "execution_count": 136,
   "metadata": {},
   "outputs": [
    {
     "data": {
      "text/plain": [
       "array([ 1,  2,  3,  4,  5,  6,  7,  8,  9, 10, 11, 12, 13, 14, 15])"
      ]
     },
     "execution_count": 136,
     "metadata": {},
     "output_type": "execute_result"
    }
   ],
   "source": [
    "X_Bq = []\n",
    "for index in range(1, len(Y_Bq)+1):\n",
    "    X_Bq.append(index)\n",
    "X_Bq = np.array(X_Bq)\n",
    "X_Bq"
   ]
  },
  {
   "cell_type": "code",
   "execution_count": 137,
   "metadata": {},
   "outputs": [],
   "source": [
    "X_2d_Bq = []\n",
    "for index in range(0, len(X_Bq)):\n",
    "    X_2d_Bq.append([X_Bq[index], Y_Bq[index]])"
   ]
  },
  {
   "cell_type": "code",
   "execution_count": 138,
   "metadata": {},
   "outputs": [
    {
     "data": {
      "text/plain": [
       "[[1, 1],\n",
       " [2, 2],\n",
       " [3, 3],\n",
       " [4, 5],\n",
       " [5, 10],\n",
       " [6, 17],\n",
       " [7, 30],\n",
       " [8, 42],\n",
       " [9, 267],\n",
       " [10, 303],\n",
       " [11, 315],\n",
       " [12, 321],\n",
       " [13, 343],\n",
       " [14, 381],\n",
       " [15, 386]]"
      ]
     },
     "execution_count": 138,
     "metadata": {},
     "output_type": "execute_result"
    }
   ],
   "source": [
    "X_2d_Bq"
   ]
  },
  {
   "cell_type": "markdown",
   "metadata": {},
   "source": [
    "São João Del Rei"
   ]
  },
  {
   "cell_type": "code",
   "execution_count": 139,
   "metadata": {},
   "outputs": [],
   "source": [
    "Y_Sj = np.array(dfSj['last_available_confirmed_sj'])"
   ]
  },
  {
   "cell_type": "code",
   "execution_count": 140,
   "metadata": {},
   "outputs": [
    {
     "data": {
      "text/plain": [
       "array([ 1,  2,  3,  4,  5,  6,  7,  8,  9, 10, 11, 12, 13, 14, 15, 16])"
      ]
     },
     "execution_count": 140,
     "metadata": {},
     "output_type": "execute_result"
    }
   ],
   "source": [
    "X_Sj = []\n",
    "for index in range(1, len(Y_Sj)+1):\n",
    "    X_Sj.append(index)\n",
    "X_Sj = np.array(X_Sj)\n",
    "X_Sj"
   ]
  },
  {
   "cell_type": "code",
   "execution_count": 141,
   "metadata": {},
   "outputs": [],
   "source": [
    "X_2d_Sj = []\n",
    "for index in range(0, len(X_Sj)):\n",
    "    X_2d_Sj.append([X_Sj[index], Y_Sj[index]])"
   ]
  },
  {
   "cell_type": "code",
   "execution_count": 154,
   "metadata": {},
   "outputs": [
    {
     "data": {
      "image/png": "[encoded data removed]",
      "text/plain": [
       "<Figure size 1152x720 with 1 Axes>"
      ]
     },
     "metadata": {
      "needs_background": "light"
     },
     "output_type": "display_data"
    }
   ],
   "source": [
    "fig, ax = plt.subplots()\n",
    "plt.rcParams['figure.figsize'] = (16,10)\n",
    "plt.rcParams.update({'font.size': 14})\n",
    "\n",
    "serieBso = np.array(X_2d_Bso)\n",
    "serieBq = np.array(X_2d_Bq)\n",
    "serieSj = np.array(X_2d_Sj)\n",
    "\n",
    "serieBq = serieBq[:len(serieBso), :len(serieBso)]\n",
    "serieSj = serieSj[:len(serieBso), :len(serieBso)]\n",
    "\n",
    "plt.plot(serieBso[:, 0], serieBso[:, 1], color='green', marker='o', linestyle='dashed', linewidth=2, markersize=8)\n",
    "plt.plot(serieBq[:, 0], serieBq[:, 1], color='red', marker='v', linestyle='solid', linewidth=2, markersize=8)\n",
    "plt.plot(serieSj[:, 0], serieSj[:, 1], color='blue', marker='h', linestyle='dotted', linewidth=2, markersize=8)\n",
    "\n",
    "ax.set(ylabel='Número de Casos', xlabel='Semana Epidemiológica', title='Número absoluto de infectados por semana epidemiológica')\n",
    "\n",
    "ax.grid()\n",
    "plt.legend(['Barroso','Barbacena', 'São João Del Rei'])\n",
    "fig.savefig('InfectadosXSemana.png')\n",
    "plt.show()"
   ]
  },
  {
   "cell_type": "code",
   "execution_count": 144,
   "metadata": {},
   "outputs": [
    {
     "data": {
      "text/plain": [
       "array([[ 1,  2],\n",
       "       [ 2,  2],\n",
       "       [ 3,  3],\n",
       "       [ 4,  7],\n",
       "       [ 5, 12],\n",
       "       [ 6, 13],\n",
       "       [ 7, 15],\n",
       "       [ 8, 44]])"
      ]
     },
     "execution_count": 144,
     "metadata": {},
     "output_type": "execute_result"
    }
   ],
   "source": [
    "serieBso"
   ]
  },
  {
   "cell_type": "code",
   "execution_count": 145,
   "metadata": {},
   "outputs": [
    {
     "data": {
      "text/plain": [
       "array([[ 1,  1],\n",
       "       [ 2,  2],\n",
       "       [ 3,  3],\n",
       "       [ 4,  5],\n",
       "       [ 5, 10],\n",
       "       [ 6, 17],\n",
       "       [ 7, 30],\n",
       "       [ 8, 42]])"
      ]
     },
     "execution_count": 145,
     "metadata": {},
     "output_type": "execute_result"
    }
   ],
   "source": [
    "serieBq"
   ]
  },
  {
   "cell_type": "code",
   "execution_count": 96,
   "metadata": {},
   "outputs": [
    {
     "data": {
      "image/png": "[encoded data removed]",
      "text/plain": [
       "<Figure size 806.4x504 with 1 Axes>"
      ]
     },
     "metadata": {
      "needs_background": "light"
     },
     "output_type": "display_data"
    }
   ],
   "source": [
    "plt.plot(np.array(serieBso[:, 1]), label = 'Barroso')\n",
    "plt.plot(np.array(serieBq[:, 1]), label = 'Barbacena')\n",
    "plt.plot(np.array(serieSj[:, 1]), label = 'São João Del Rei')\n",
    "sizefactor = 0.7\n",
    "plt.yticks(np.arange(serieBso[:,1].min(), serieBq[:,1].max(), 40))\n",
    "fig_size = plt.gcf().get_size_inches() \n",
    "plt.gcf().set_size_inches(sizefactor * fig_size)\n",
    "plt.legend()\n",
    "plt.show()"
   ]
  },
  {
   "cell_type": "code",
   "execution_count": 73,
   "metadata": {},
   "outputs": [
    {
     "name": "stdout",
     "output_type": "stream",
     "text": [
      "7\n"
     ]
    }
   ],
   "source": [
    "print(len(serieBso))"
   ]
  },
  {
   "cell_type": "code",
   "execution_count": 152,
   "metadata": {},
   "outputs": [],
   "source": [
    "from sklearn.linear_model import LinearRegression"
   ]
  },
  {
   "cell_type": "code",
   "execution_count": 153,
   "metadata": {},
   "outputs": [
    {
     "data": {
      "text/plain": [
       "array([ 2,  2,  3,  7, 12, 13, 15, 27])"
      ]
     },
     "execution_count": 153,
     "metadata": {},
     "output_type": "execute_result"
    }
   ],
   "source": [
    "Y"
   ]
  },
  {
   "cell_type": "code",
   "execution_count": 154,
   "metadata": {},
   "outputs": [
    {
     "data": {
      "text/plain": [
       "array([0, 1, 2, 3, 4, 5, 6, 7])"
      ]
     },
     "execution_count": 154,
     "metadata": {},
     "output_type": "execute_result"
    }
   ],
   "source": [
    "X_a"
   ]
  },
  {
   "cell_type": "code",
   "execution_count": 155,
   "metadata": {},
   "outputs": [
    {
     "data": {
      "text/plain": [
       "array([ 0,  2,  2,  3,  7, 12, 13, 15])"
      ]
     },
     "execution_count": 155,
     "metadata": {},
     "output_type": "execute_result"
    }
   ],
   "source": [
    "X_b"
   ]
  },
  {
   "cell_type": "code",
   "execution_count": 156,
   "metadata": {},
   "outputs": [],
   "source": [
    "X_reshape = X_b.reshape(-1,1)\n",
    "reg = LinearRegression().fit(X_reshape, Y)"
   ]
  },
  {
   "cell_type": "code",
   "execution_count": 157,
   "metadata": {},
   "outputs": [
    {
     "data": {
      "text/plain": [
       "0.8559392104254895"
      ]
     },
     "execution_count": 157,
     "metadata": {},
     "output_type": "execute_result"
    }
   ],
   "source": [
    "reg.score(X_reshape, Y)"
   ]
  },
  {
   "cell_type": "code",
   "execution_count": 158,
   "metadata": {},
   "outputs": [
    {
     "data": {
      "text/plain": [
       "array([1.35386221])"
      ]
     },
     "execution_count": 158,
     "metadata": {},
     "output_type": "execute_result"
    }
   ],
   "source": [
    "reg.coef_"
   ]
  },
  {
   "cell_type": "code",
   "execution_count": 159,
   "metadata": {},
   "outputs": [
    {
     "data": {
      "text/plain": [
       "0.9864300626304789"
      ]
     },
     "execution_count": 159,
     "metadata": {},
     "output_type": "execute_result"
    }
   ],
   "source": [
    "reg.intercept_"
   ]
  },
  {
   "cell_type": "code",
   "execution_count": 160,
   "metadata": {},
   "outputs": [
    {
     "data": {
      "text/plain": [
       "array([60.55636743])"
      ]
     },
     "execution_count": 160,
     "metadata": {},
     "output_type": "execute_result"
    }
   ],
   "source": [
    "reg.predict(np.array([[44]]))"
   ]
  },
  {
   "cell_type": "code",
   "execution_count": 161,
   "metadata": {},
   "outputs": [],
   "source": [
    "from sklearn.linear_model import RANSACRegressor\n",
    "from sklearn.svm import SVR\n",
    "\n",
    "svr_lin = SVR(kernel='linear', C=100, gamma='auto').fit(X_reshape, Y)"
   ]
  },
  {
   "cell_type": "code",
   "execution_count": 163,
   "metadata": {},
   "outputs": [
    {
     "data": {
      "text/plain": [
       "array([46.57692308])"
      ]
     },
     "execution_count": 163,
     "metadata": {},
     "output_type": "execute_result"
    }
   ],
   "source": [
    "svr_lin.predict(np.array([[44]]))"
   ]
  },
  {
   "cell_type": "code",
   "execution_count": 164,
   "metadata": {},
   "outputs": [],
   "source": [
    "day = []\n",
    "predict_lin = np.array([[44]])\n",
    "for i in range(0, 5):\n",
    "    result = reg.predict([predict_lin[i]])\n",
    "    predict_lin = np.concatenate((predict_lin, np.array([result])))\n",
    "    day.append(i)"
   ]
  },
  {
   "cell_type": "code",
   "execution_count": 167,
   "metadata": {},
   "outputs": [
    {
     "data": {
      "text/plain": [
       "array([[ 44.        ],\n",
       "       [ 60.55636743],\n",
       "       [ 82.97140768],\n",
       "       [113.31828368],\n",
       "       [154.40377237],\n",
       "       [210.02786301]])"
      ]
     },
     "execution_count": 167,
     "metadata": {},
     "output_type": "execute_result"
    }
   ],
   "source": [
    "predict_lin"
   ]
  },
  {
   "cell_type": "code",
   "execution_count": 93,
   "metadata": {},
   "outputs": [
    {
     "data": {
      "text/plain": [
       "array([  1,   2,   3,   5,  10,  17,  30,  42, 267, 303, 315, 321, 343,\n",
       "       381, 386])"
      ]
     },
     "execution_count": 93,
     "metadata": {},
     "output_type": "execute_result"
    }
   ],
   "source": [
    "Y = np.array(dfBq['last_available_confirmed_bq'])\n",
    "Y"
   ]
  }
 ],
 "metadata": {
  "kernelspec": {
   "display_name": "Python 3",
   "language": "python",
   "name": "python3"
  },
  "language_info": {
   "codemirror_mode": {
    "name": "ipython",
    "version": 3
   },
   "file_extension": ".py",
   "mimetype": "text/x-python",
   "name": "python",
   "nbconvert_exporter": "python",
   "pygments_lexer": "ipython3",
   "version": "3.7.3"
  }
 },
 "nbformat": 4,
 "nbformat_minor": 2
}
